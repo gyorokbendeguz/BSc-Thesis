{
 "cells": [
  {
   "cell_type": "code",
   "execution_count": 1,
   "id": "461d1075",
   "metadata": {},
   "outputs": [],
   "source": [
    "import pandas as pd\n",
    "import numpy as np\n",
    "import tensorflow as tf\n",
    "from tensorflow import keras\n",
    "import matplotlib.pyplot as plt\n",
    "import seaborn as sns\n",
    "from sklearn.utils import shuffle\n",
    "from sklearn.metrics import mean_squared_error\n",
    "\n",
    "import csv"
   ]
  },
  {
   "cell_type": "code",
   "execution_count": 2,
   "id": "0c0271aa",
   "metadata": {},
   "outputs": [],
   "source": [
    "#adatok beolvasása, pandas adattábla készítés / importing data, creating pandas dataframe\n",
    "\n",
    "MU1 = f\"05\"\n",
    "MU2 = f\"18\"\n",
    "MU3 = f\"1\"\n",
    "FILE_NAME1 = f\"SimulationResults/sim_mu_\" + MU1 + f\".csv\"\n",
    "FILE_NAME2 = f\"SimulationResults/sim_mu_\" + MU2 + f\".csv\"\n",
    "FILE_NAME3 = f\"SimulationResults/sim_mu_\" + MU3 + f\".csv\"\n",
    "\n",
    "df1 = pd.read_csv(FILE_NAME1, sep = ',')\n",
    "df1 = df1.rename(columns = {\"NaN\": \"Time [s]\", \"NaN.1\": \"Psi [rad]\", \"NaN.2\": \"Psi_max [rad]\", \"NaN.3\": \"Torque [Nm]\",\n",
    "                   \"NaN.4\": \"Tow [m]\", \"NaN.5\": \"Load [N]\", \"NaN.6\": \"Direction (0/1)\", \"NaN.7\": \"Section 3/5 (0/1)\",\n",
    "                           \"NaN.8\": \"Mu_calc [1]\", \"NaN.9\": \"Mu [1]\"})\n",
    "\n",
    "df2 = pd.read_csv(FILE_NAME2, sep = ',')\n",
    "df2 = df2.rename(columns = {\"NaN\": \"Time [s]\", \"NaN.1\": \"Psi [rad]\", \"NaN.2\": \"Psi_max [rad]\", \"NaN.3\": \"Torque [Nm]\",\n",
    "                   \"NaN.4\": \"Tow [m]\", \"NaN.5\": \"Load [N]\", \"NaN.6\": \"Direction (0/1)\", \"NaN.7\": \"Section 3/5 (0/1)\",\n",
    "                           \"NaN.8\": \"Mu_calc [1]\", \"NaN.9\": \"Mu [1]\"})\n",
    "\n",
    "df3 = pd.read_csv(FILE_NAME3, sep = ',')\n",
    "df3 = df3.rename(columns = {\"NaN\": \"Time [s]\", \"NaN.1\": \"Psi [rad]\", \"NaN.2\": \"Psi_max [rad]\", \"NaN.3\": \"Torque [Nm]\",\n",
    "                   \"NaN.4\": \"Tow [m]\", \"NaN.5\": \"Load [N]\", \"NaN.6\": \"Direction (0/1)\", \"NaN.7\": \"Section 3/5 (0/1)\",\n",
    "                           \"NaN.8\": \"Mu_calc [1]\", \"NaN.9\": \"Mu [1]\"})\n",
    "\n",
    "dataframes = [df1, df2]\n",
    "df = shuffle(pd.concat(dataframes))\n",
    "del df1, df2"
   ]
  },
  {
   "cell_type": "code",
   "execution_count": 3,
   "id": "2c8e4f1f",
   "metadata": {},
   "outputs": [],
   "source": [
    "#Tanítási adatbázis létrehozása / creating training dataset\n",
    "\n",
    "# fv. az tanítási adatbázis összeállítására / function for creating traning data\n",
    "def create_dataset(X, y, time_steps=1): \n",
    "    Xs, ys = [], []\n",
    "    for i in range(len(X) - time_steps):\n",
    "        v = X.iloc[i:(i + time_steps)].values\n",
    "        Xs.append(v)\n",
    "        ys.append(y.iloc[i + time_steps])\n",
    "    return np.array(Xs), np.array(ys)\n",
    "\n",
    "# tanítási adatok / training data\n",
    "train_df = df\n",
    "del train_df[\"Time [s]\"], train_df[\"Tow [m]\"], train_df[\"Load [N]\"], train_df[\"Mu_calc [1]\"]\n",
    "del train_df[\"Direction (0/1)\"], train_df[\"Section 3/5 (0/1)\"]\n",
    "\n",
    "#X és y értékek beállítása\n",
    "X_set = pd.DataFrame()\n",
    "y_set = pd.DataFrame()\n",
    "X_set[\"Psi [rad]\"] = train_df[\"Psi [rad]\"]\n",
    "X_set[\"Psi_max [rad]\"] = train_df[\"Psi_max [rad]\"]\n",
    "X_set[\"Torque [Nm]\"] = train_df[\"Torque [Nm]\"]\n",
    "y_set[\"Mu [1]\"] = train_df[\"Mu [1]\"]\n",
    "X_train, y_train = create_dataset(X_set, y_set)"
   ]
  },
  {
   "cell_type": "code",
   "execution_count": 4,
   "id": "3d5d8f7a",
   "metadata": {},
   "outputs": [],
   "source": [
    "#CNN modell alkotása / creating the CNN model\n",
    "\n",
    "model = keras.Sequential()\n",
    "\n",
    "model.add(keras.layers.Dense(\n",
    "    units = 1024,\n",
    "    input_shape = (X_train.shape[1], X_train.shape[2]),\n",
    "    activation = 'sigmoid'))\n",
    "\n",
    "model.add(keras.layers.Dense(\n",
    "    units = 512,\n",
    "    activation = 'sigmoid'))\n",
    "\n",
    "model.add(keras.layers.Dense(units = 1))\n",
    "\n",
    "model.compile(\n",
    "    optimizer = keras.optimizers.Adam(0.001),\n",
    "    loss = 'mean_squared_error',\n",
    "    metrics = [tf.keras.metrics.RootMeanSquaredError()]\n",
    ")\n",
    "\n",
    "early_stopper=keras.callbacks.EarlyStopping(monitor='val_loss', patience = 30, mode = \"min\", restore_best_weights = True)"
   ]
  },
  {
   "cell_type": "code",
   "execution_count": 5,
   "id": "604a69d7",
   "metadata": {},
   "outputs": [],
   "source": [
    "#A modell tanítása\n",
    "\n",
    "EPOCHS = 30\n",
    "BATCH_SIZE = 32\n",
    "\n",
    "history = model.fit(\n",
    "    X_train, y_train,\n",
    "    epochs = EPOCHS,\n",
    "    batch_size = BATCH_SIZE,\n",
    "    validation_split = 0.1,\n",
    "    verbose = 0,\n",
    "    shuffle = True,\n",
    "    callbacks=[early_stopper]\n",
    ")"
   ]
  },
  {
   "cell_type": "code",
   "execution_count": 6,
   "id": "249ca2eb",
   "metadata": {},
   "outputs": [],
   "source": [
    "# Validálási adatbázis létrehozása / Creating the validation dataset\n",
    "\n",
    "valid_df = df3\n",
    "\n",
    "X_vset = pd.DataFrame()\n",
    "y_vset = pd.DataFrame()\n",
    "X_vset[\"Psi [rad]\"] = valid_df[\"Psi [rad]\"]\n",
    "X_vset[\"Psi_max [rad]\"] = valid_df[\"Psi_max [rad]\"]\n",
    "X_vset[\"Torque [Nm]\"] = valid_df[\"Torque [Nm]\"]\n",
    "y_vset[\"Mu [1]\"] = valid_df[\"Mu [1]\"]\n",
    "\n",
    "X_valid, y_valid = create_dataset(X_vset, y_vset)"
   ]
  },
  {
   "cell_type": "code",
   "execution_count": 7,
   "id": "b790f4e2",
   "metadata": {},
   "outputs": [
    {
     "data": {
      "image/png": "[encoded data removed]",
      "text/plain": [
       "<Figure size 432x288 with 1 Axes>"
      ]
     },
     "metadata": {
      "needs_background": "light"
     },
     "output_type": "display_data"
    },
    {
     "name": "stdout",
     "output_type": "stream",
     "text": [
      "Error of the model / a modell hibája: 0.06070472233945656 [RMSE]\n"
     ]
    }
   ],
   "source": [
    "# Validáció / validation\n",
    "y_pred = model.predict(X_valid)\n",
    "y = [sor[0][0] for sor in y_pred]\n",
    "\n",
    "plt.plot(valid_df['Time [s]'], valid_df[\"Mu [1]\"], label = \"Simulation\")\n",
    "plt.plot(valid_df['Time [s]'], valid_df[\"Mu_calc [1]\"], label = \"Analytic\")\n",
    "plt.plot(valid_df['Time [s]'][0:-1], y, label = \"NN\")\n",
    "plt.xlabel(\"Time [s]\")\n",
    "plt.ylabel(\"Friction coefficient [1]\")\n",
    "plt.title(\"Simulated and predicted friction coefficient\")\n",
    "plt.legend()\n",
    "plt.show()\n",
    "\n",
    "RMSE = mean_squared_error(valid_df[\"Mu [1]\"][0:-1].values, y, squared = False)\n",
    "print(f\"Error of the model / a modell hibája: {RMSE} [RMSE]\")"
   ]
  }
 ],
 "metadata": {
  "kernelspec": {
   "display_name": "Python 3",
   "language": "python",
   "name": "python3"
  },
  "language_info": {
   "codemirror_mode": {
    "name": "ipython",
    "version": 3
   },
   "file_extension": ".py",
   "mimetype": "text/x-python",
   "name": "python",
   "nbconvert_exporter": "python",
   "pygments_lexer": "ipython3",
   "version": "3.8.8"
  }
 },
 "nbformat": 4,
 "nbformat_minor": 5
}
